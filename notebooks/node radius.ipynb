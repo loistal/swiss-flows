{
 "cells": [
  {
   "cell_type": "markdown",
   "metadata": {},
   "source": [
    "# Node radius study"
   ]
  },
  {
   "cell_type": "markdown",
   "metadata": {},
   "source": [
    "This notebook aims to perform some research about *how can we approximate a node radius*.\n",
    "\n",
    "**Why ?** Finding the radius of a node is important in order to be able to associate a tweet with a node without too much error. A radius too large would potentially collect too many tweet and biase the analysis, whereas a radius too small would lose some information about potential flows. "
   ]
  },
  {
   "cell_type": "markdown",
   "metadata": {},
   "source": [
    "## Techniques\n"
   ]
  },
  {
   "cell_type": "markdown",
   "metadata": {},
   "source": [
    "### Exact boundaries\n",
    "\n",
    "One could be wondering why looking for an approximation of the node surface, when there are plenty of useful online tools and APIs in order to get the exact boundaries of a city.\n",
    "\n",
    "Let's look at this [Lausanne map](http://nominatim.openstreetmap.org/search.php?q=lausanne&polygon=1&viewbox=) for example. As we can see, it's difficult to find a general shape of Lausanne's borders.\n",
    "Furthermore, we have to keep in mind that our ultimate goal is not to exaclty locate tweets in their respective cities, but more to associate each tweet with a global node of Switzerland. In this case, we would like to associate tweets from Renens or Ecublens to the Lausanne node. But this is not possible using this technique given these cities are obviously out of the bounds."
   ]
  },
  {
   "cell_type": "markdown",
   "metadata": {},
   "source": [
    "### Approximation from exact boundaries\n",
    "\n",
    "If it's not reasonnable to take into account the exact boundaries of a city, we could consider to find a way to extract an approximation from them.\n",
    "\n",
    "One way could be to take the furthermost point of the boundary from the center, and take this distance as a radius for the node.\n",
    "\n",
    "This time we can take a [Geneva map](http://nominatim.openstreetmap.org/search.php?q=geneve&polygon=1&viewbox=) as a bad example. This time we see that the boundaries are pretty circular, which is convenient. But if we use this tecnique, we will find ourselves taking into account the city of Gevena only, ommitting the around cities that could bring a lot of potential tweets for the same node."
   ]
  },
  {
   "cell_type": "markdown",
   "metadata": {},
   "source": [
    "### Approximation from the population"
   ]
  },
  {
   "cell_type": "markdown",
   "metadata": {},
   "source": [
    "We use this [tool](http://obeattie.github.io/gmaps-radius/?lat=47.125275&lng=6.962085&z=11&u=km&r=5) to try to explore the different nodes and the best radius that could fit. "
   ]
  },
  {
   "cell_type": "code",
   "execution_count": 1,
   "metadata": {
    "collapsed": true
   },
   "outputs": [],
   "source": [
    "import sys\n",
    "sys.path.append('../swiss_flows')\n",
    "from node import Node"
   ]
  },
  {
   "cell_type": "code",
   "execution_count": 2,
   "metadata": {
    "collapsed": false
   },
   "outputs": [
    {
     "name": "stderr",
     "output_type": "stream",
     "text": [
      "../swiss_flows/node.py:198: UserWarning: This pattern has match groups. To actually get the groups, use str.extract.\n",
      "  df = df[df['feature code'].str.contains(r'PPL(A\\d?|C)?$')]\n",
      "/usr/local/lib/python3.5/site-packages/IPython/core/interactiveshell.py:2881: DtypeWarning: Columns (10) have mixed types. Specify dtype option on import or set low_memory=False.\n",
      "  exec(code_obj, self.user_global_ns, self.user_ns)\n",
      "/usr/local/lib/python3.5/site-packages/IPython/core/interactiveshell.py:2881: DtypeWarning: Columns (10,11) have mixed types. Specify dtype option on import or set low_memory=False.\n",
      "  exec(code_obj, self.user_global_ns, self.user_ns)\n"
     ]
    }
   ],
   "source": [
    "nodes = Node.generate_nodes(n_swiss_nodes=15, n_foreign_nodes=3, pop_threshold=15000)"
   ]
  },
  {
   "cell_type": "code",
   "execution_count": 5,
   "metadata": {
    "collapsed": false
   },
   "outputs": [
    {
     "name": "stdout",
     "output_type": "stream",
     "text": [
      "[Node] Zurich, CH, ZH, (47.36667, 8.55), 15 km, 341730 people\n",
      "[Node] Geneve, CH, GE, (46.202220000000004, 6.14569), 15 km, 183981 people\n",
      "[Node] Basel, CH, BS, (47.55839, 7.57327), 15 km, 164488 people\n",
      "[Node] Bern, CH, BE, (46.94809, 7.447439999999999), 15 km, 121631 people\n",
      "[Node] Lausanne, CH, VD, (46.516000000000005, 6.63282), 15 km, 116751 people\n",
      "[Node] Winterthur, CH, ZH, (47.50564, 8.72413), 15 km, 91908 people\n",
      "[Node] Sankt Gallen, CH, SG, (47.42391, 9.37477), 15 km, 70572 people\n",
      "[Node] Luzern, CH, LU, (47.05048, 8.30635), 15 km, 57066 people\n",
      "[Node] Biel/Bienne, CH, BE, (47.13713, 7.24608), 15 km, 48614 people\n",
      "[Node] Thun, CH, BE, (46.75118, 7.62166), 15 km, 42136 people\n",
      "[Node] Koniz, CH, BE, (46.92436, 7.414569999999999), 15 km, 37196 people\n",
      "[Node] La Chaux-de-Fonds, CH, NE, (47.09993, 6.8258600000000005), 15 km, 36825 people\n",
      "[Node] Rapperswil, CH, SG, (47.225570000000005, 8.822280000000001), 15 km, 34776 people\n",
      "[Node] Schaffhausen, CH, SH, (47.69732, 8.63493), 15 km, 33863 people\n",
      "[Node] Fribourg, CH, FR, (46.80237, 7.15128), 15 km, 32827 people\n",
      "[Node] Saint-Louis, FR, 44, (47.588359999999994, 7.562469999999999), 15 km, 20871 people\n",
      "[Node] Mulhouse, FR, 44, (47.75, 7.33333), 15 km, 111430 people\n",
      "[Node] Illzach, FR, 44, (47.780879999999996, 7.34662), 15 km, 15457 people\n",
      "[Node] Domodossola, IT, 12.0, (46.1165, 8.29313), 15 km, 17778 people\n",
      "[Node] Pallanza-Intra-Suna, IT, 12.0, (45.93778, 8.57088), 15 km, 28911 people\n",
      "[Node] Verbania, IT, 12.0, (45.92136, 8.55183), 15 km, 31070 people\n",
      "[Node] Waldshut-Tiengen, DE, 1.0, (47.62323, 8.21717), 15 km, 22404 people\n",
      "[Node] Singen, DE, 1.0, (47.75935, 8.8403), 15 km, 45696 people\n",
      "[Node] Bad Sackingen, DE, 1.0, (47.553709999999995, 7.94612), 15 km, 16549 people\n",
      "[Node] Feldkirch, AT, 08, (47.233059999999995, 9.6), 15 km, 31082 people\n",
      "[Node] Lustenau, AT, 08, (47.42642, 9.65851), 15 km, 20218 people\n",
      "[Node] Dornbirn, AT, 08, (47.41427, 9.74195), 15 km, 43013 people\n"
     ]
    }
   ],
   "source": [
    "for node in nodes:\n",
    "    print(node)"
   ]
  },
  {
   "cell_type": "markdown",
   "metadata": {},
   "source": [
    "After trying different possibilities of radiuses in order to maximize the coverage of each node by taking into account the very close small cities, but staying in reasonnable bound for the actual city surface. \n",
    "\n",
    "If we try to correlate these surfaces with the city population above we get the following scheme : \n",
    "\n",
    "$$pop \\geq 300.000 \\leftrightarrow 12km$$\n",
    "$$100.000 \\leq pop < 300.000 \\leftrightarrow 10km$$\n",
    "$$40.000 \\leq pop < 100.000 \\leftrightarrow 8km$$\n",
    "$$pop < 40.000 \\leftrightarrow 5km$$"
   ]
  },
  {
   "cell_type": "markdown",
   "metadata": {},
   "source": [
    "After modification of the code : "
   ]
  },
  {
   "cell_type": "code",
   "execution_count": 3,
   "metadata": {
    "collapsed": false
   },
   "outputs": [
    {
     "name": "stdout",
     "output_type": "stream",
     "text": [
      "[Node] Zurich, CH, ZH, (47.36667, 8.55), 12 km, 341730 people\n",
      "[Node] Geneve, CH, GE, (46.202220000000004, 6.14569), 10 km, 183981 people\n",
      "[Node] Basel, CH, BS, (47.55839, 7.57327), 10 km, 164488 people\n",
      "[Node] Bern, CH, BE, (46.94809, 7.447439999999999), 10 km, 121631 people\n",
      "[Node] Lausanne, CH, VD, (46.516000000000005, 6.63282), 10 km, 116751 people\n",
      "[Node] Winterthur, CH, ZH, (47.50564, 8.72413), 8 km, 91908 people\n",
      "[Node] Sankt Gallen, CH, SG, (47.42391, 9.37477), 8 km, 70572 people\n",
      "[Node] Luzern, CH, LU, (47.05048, 8.30635), 8 km, 57066 people\n",
      "[Node] Biel/Bienne, CH, BE, (47.13713, 7.24608), 8 km, 48614 people\n",
      "[Node] Thun, CH, BE, (46.75118, 7.62166), 8 km, 42136 people\n",
      "[Node] Koniz, CH, BE, (46.92436, 7.414569999999999), 5 km, 37196 people\n",
      "[Node] La Chaux-de-Fonds, CH, NE, (47.09993, 6.8258600000000005), 5 km, 36825 people\n",
      "[Node] Rapperswil, CH, SG, (47.225570000000005, 8.822280000000001), 5 km, 34776 people\n",
      "[Node] Schaffhausen, CH, SH, (47.69732, 8.63493), 5 km, 33863 people\n",
      "[Node] Fribourg, CH, FR, (46.80237, 7.15128), 5 km, 32827 people\n",
      "[Node] Saint-Louis, FR, 44, (47.588359999999994, 7.562469999999999), 5 km, 20871 people\n",
      "[Node] Mulhouse, FR, 44, (47.75, 7.33333), 10 km, 111430 people\n",
      "[Node] Illzach, FR, 44, (47.780879999999996, 7.34662), 5 km, 15457 people\n",
      "[Node] Domodossola, IT, 12.0, (46.1165, 8.29313), 5 km, 17778 people\n",
      "[Node] Pallanza-Intra-Suna, IT, 12.0, (45.93778, 8.57088), 5 km, 28911 people\n",
      "[Node] Verbania, IT, 12.0, (45.92136, 8.55183), 5 km, 31070 people\n",
      "[Node] Waldshut-Tiengen, DE, 1.0, (47.62323, 8.21717), 5 km, 22404 people\n",
      "[Node] Singen, DE, 1.0, (47.75935, 8.8403), 8 km, 45696 people\n",
      "[Node] Bad Sackingen, DE, 1.0, (47.553709999999995, 7.94612), 5 km, 16549 people\n",
      "[Node] Feldkirch, AT, 08, (47.233059999999995, 9.6), 5 km, 31082 people\n",
      "[Node] Lustenau, AT, 08, (47.42642, 9.65851), 5 km, 20218 people\n",
      "[Node] Dornbirn, AT, 08, (47.41427, 9.74195), 8 km, 43013 people\n"
     ]
    }
   ],
   "source": [
    "for node in nodes:\n",
    "    print(node)"
   ]
  }
 ],
 "metadata": {
  "kernelspec": {
   "display_name": "Python 3",
   "language": "python",
   "name": "python3"
  },
  "language_info": {
   "codemirror_mode": {
    "name": "ipython",
    "version": 3
   },
   "file_extension": ".py",
   "mimetype": "text/x-python",
   "name": "python",
   "nbconvert_exporter": "python",
   "pygments_lexer": "ipython3",
   "version": "3.5.2"
  }
 },
 "nbformat": 4,
 "nbformat_minor": 1
}
