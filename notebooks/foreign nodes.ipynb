{
 "cells": [
  {
   "cell_type": "markdown",
   "metadata": {},
   "source": [
    "# Neighbouring Countries Nodes"
   ]
  },
  {
   "cell_type": "markdown",
   "metadata": {},
   "source": [
    "The treatment in this notebook is analogous to the one for node generation, except for the node selection part.\n",
    "\n",
    "We develop the following pipeline using France data from Geonames. Treatment for Italy, Germany and Austria is added in the actual project code. "
   ]
  },
  {
   "cell_type": "code",
   "execution_count": 1,
   "metadata": {
    "collapsed": true
   },
   "outputs": [],
   "source": [
    "import pandas as pd\n",
    "import seaborn as sns\n",
    "import matplotlib.pyplot as plt"
   ]
  },
  {
   "cell_type": "markdown",
   "metadata": {},
   "source": [
    "## Geonames Data"
   ]
  },
  {
   "cell_type": "markdown",
   "metadata": {},
   "source": [
    "We perform analogous treatment to extract and clean the data."
   ]
  },
  {
   "cell_type": "code",
   "execution_count": 9,
   "metadata": {
    "collapsed": false
   },
   "outputs": [
    {
     "data": {
      "text/html": [
       "<div>\n",
       "<table border=\"1\" class=\"dataframe\">\n",
       "  <thead>\n",
       "    <tr style=\"text-align: right;\">\n",
       "      <th></th>\n",
       "      <th>geonameid</th>\n",
       "      <th>name</th>\n",
       "      <th>asciiname</th>\n",
       "      <th>alternatenames</th>\n",
       "      <th>latitude</th>\n",
       "      <th>longitude</th>\n",
       "      <th>feature class</th>\n",
       "      <th>feature code</th>\n",
       "      <th>country code</th>\n",
       "      <th>cc2</th>\n",
       "      <th>admin1 code</th>\n",
       "      <th>admin2 code</th>\n",
       "      <th>admin3 code</th>\n",
       "      <th>admin4 code</th>\n",
       "      <th>population</th>\n",
       "      <th>elevation</th>\n",
       "      <th>dem</th>\n",
       "      <th>timezone</th>\n",
       "      <th>modification date</th>\n",
       "    </tr>\n",
       "  </thead>\n",
       "  <tbody>\n",
       "    <tr>\n",
       "      <th>0</th>\n",
       "      <td>2659086</td>\n",
       "      <td>Recon, Col de</td>\n",
       "      <td>Recon, Col de</td>\n",
       "      <td>Rapenaz  Col de,Recon  Col de</td>\n",
       "      <td>46.30352</td>\n",
       "      <td>6.82838</td>\n",
       "      <td>T</td>\n",
       "      <td>PASS</td>\n",
       "      <td>FR</td>\n",
       "      <td>CH</td>\n",
       "      <td>84</td>\n",
       "      <td>74</td>\n",
       "      <td>744</td>\n",
       "      <td>74058</td>\n",
       "      <td>0</td>\n",
       "      <td>NaN</td>\n",
       "      <td>1733</td>\n",
       "      <td>Europe/Zurich</td>\n",
       "      <td>2016-12-10</td>\n",
       "    </tr>\n",
       "    <tr>\n",
       "      <th>1</th>\n",
       "      <td>2659815</td>\n",
       "      <td>Lucelle</td>\n",
       "      <td>Lucelle</td>\n",
       "      <td>La Lucelle Riviere,La Lucelle Rivière,Lucelle,...</td>\n",
       "      <td>47.41667</td>\n",
       "      <td>7.50000</td>\n",
       "      <td>H</td>\n",
       "      <td>STM</td>\n",
       "      <td>FR</td>\n",
       "      <td>NaN</td>\n",
       "      <td>00</td>\n",
       "      <td>NaN</td>\n",
       "      <td>NaN</td>\n",
       "      <td>NaN</td>\n",
       "      <td>0</td>\n",
       "      <td>NaN</td>\n",
       "      <td>353</td>\n",
       "      <td>Europe/Zurich</td>\n",
       "      <td>2014-08-05</td>\n",
       "    </tr>\n",
       "    <tr>\n",
       "      <th>2</th>\n",
       "      <td>2659933</td>\n",
       "      <td>Les Cornettes de Bise</td>\n",
       "      <td>Les Cornettes de Bise</td>\n",
       "      <td>Cornettes de Bise,Les Cornettes de Bise</td>\n",
       "      <td>46.33333</td>\n",
       "      <td>6.78333</td>\n",
       "      <td>T</td>\n",
       "      <td>PK</td>\n",
       "      <td>FR</td>\n",
       "      <td>CH</td>\n",
       "      <td>84</td>\n",
       "      <td>74</td>\n",
       "      <td>744</td>\n",
       "      <td>74058</td>\n",
       "      <td>0</td>\n",
       "      <td>2432.0</td>\n",
       "      <td>2322</td>\n",
       "      <td>Europe/Zurich</td>\n",
       "      <td>2016-02-18</td>\n",
       "    </tr>\n",
       "    <tr>\n",
       "      <th>3</th>\n",
       "      <td>2659943</td>\n",
       "      <td>Ruisseau le Lertzbach</td>\n",
       "      <td>Ruisseau le Lertzbach</td>\n",
       "      <td>Le Lertzbach Ruisseau,Lertzbach,Ruisseau le Le...</td>\n",
       "      <td>47.58333</td>\n",
       "      <td>7.58333</td>\n",
       "      <td>H</td>\n",
       "      <td>STM</td>\n",
       "      <td>FR</td>\n",
       "      <td>NaN</td>\n",
       "      <td>00</td>\n",
       "      <td>NaN</td>\n",
       "      <td>NaN</td>\n",
       "      <td>NaN</td>\n",
       "      <td>0</td>\n",
       "      <td>NaN</td>\n",
       "      <td>245</td>\n",
       "      <td>Europe/Zurich</td>\n",
       "      <td>2012-06-05</td>\n",
       "    </tr>\n",
       "    <tr>\n",
       "      <th>4</th>\n",
       "      <td>2659973</td>\n",
       "      <td>Le Cheval Blanc</td>\n",
       "      <td>Le Cheval Blanc</td>\n",
       "      <td>Le Cheval Blanc</td>\n",
       "      <td>46.05132</td>\n",
       "      <td>6.87178</td>\n",
       "      <td>T</td>\n",
       "      <td>MT</td>\n",
       "      <td>FR</td>\n",
       "      <td>CH</td>\n",
       "      <td>84</td>\n",
       "      <td>74</td>\n",
       "      <td>742</td>\n",
       "      <td>74290</td>\n",
       "      <td>0</td>\n",
       "      <td>2831.0</td>\n",
       "      <td>2807</td>\n",
       "      <td>Europe/Zurich</td>\n",
       "      <td>2016-12-10</td>\n",
       "    </tr>\n",
       "  </tbody>\n",
       "</table>\n",
       "</div>"
      ],
      "text/plain": [
       "   geonameid                   name              asciiname  \\\n",
       "0    2659086          Recon, Col de          Recon, Col de   \n",
       "1    2659815                Lucelle                Lucelle   \n",
       "2    2659933  Les Cornettes de Bise  Les Cornettes de Bise   \n",
       "3    2659943  Ruisseau le Lertzbach  Ruisseau le Lertzbach   \n",
       "4    2659973        Le Cheval Blanc        Le Cheval Blanc   \n",
       "\n",
       "                                      alternatenames  latitude  longitude  \\\n",
       "0                      Rapenaz  Col de,Recon  Col de  46.30352    6.82838   \n",
       "1  La Lucelle Riviere,La Lucelle Rivière,Lucelle,...  47.41667    7.50000   \n",
       "2            Cornettes de Bise,Les Cornettes de Bise  46.33333    6.78333   \n",
       "3  Le Lertzbach Ruisseau,Lertzbach,Ruisseau le Le...  47.58333    7.58333   \n",
       "4                                    Le Cheval Blanc  46.05132    6.87178   \n",
       "\n",
       "  feature class feature code country code  cc2 admin1 code admin2 code  \\\n",
       "0             T         PASS           FR   CH          84          74   \n",
       "1             H          STM           FR  NaN          00         NaN   \n",
       "2             T           PK           FR   CH          84          74   \n",
       "3             H          STM           FR  NaN          00         NaN   \n",
       "4             T           MT           FR   CH          84          74   \n",
       "\n",
       "  admin3 code admin4 code  population  elevation   dem       timezone  \\\n",
       "0         744       74058           0        NaN  1733  Europe/Zurich   \n",
       "1         NaN         NaN           0        NaN   353  Europe/Zurich   \n",
       "2         744       74058           0     2432.0  2322  Europe/Zurich   \n",
       "3         NaN         NaN           0        NaN   245  Europe/Zurich   \n",
       "4         742       74290           0     2831.0  2807  Europe/Zurich   \n",
       "\n",
       "  modification date  \n",
       "0        2016-12-10  \n",
       "1        2014-08-05  \n",
       "2        2016-02-18  \n",
       "3        2012-06-05  \n",
       "4        2016-12-10  "
      ]
     },
     "execution_count": 9,
     "metadata": {},
     "output_type": "execute_result"
    }
   ],
   "source": [
    "# Data delimited by tabs, utf-8 encoding\n",
    "df = pd.read_csv('../data/FR/FR.txt', header=None, encoding='utf8', delimiter='\\t', dtype={10: str})\n",
    "\n",
    "# Build the index\n",
    "index = ['geonameid', 'name', 'asciiname', 'alternatenames', 'latitude', 'longitude', 'feature class',\n",
    "         'feature code', 'country code', 'cc2', 'admin1 code', 'admin2 code', 'admin3 code', 'admin4 code',\n",
    "         'population', 'elevation', 'dem', 'timezone', 'modification date']\n",
    "\n",
    "df.columns = index\n",
    "\n",
    "df.head()"
   ]
  },
  {
   "cell_type": "code",
   "execution_count": 10,
   "metadata": {
    "collapsed": false
   },
   "outputs": [
    {
     "name": "stdout",
     "output_type": "stream",
     "text": [
      "Shape : (33965, 6)\n"
     ]
    },
    {
     "name": "stderr",
     "output_type": "stream",
     "text": [
      "/usr/local/lib/python3.5/site-packages/ipykernel/__main__.py:5: UserWarning: This pattern has match groups. To actually get the groups, use str.extract.\n"
     ]
    },
    {
     "data": {
      "text/html": [
       "<div>\n",
       "<table border=\"1\" class=\"dataframe\">\n",
       "  <thead>\n",
       "    <tr style=\"text-align: right;\">\n",
       "      <th></th>\n",
       "      <th>asciiname</th>\n",
       "      <th>latitude</th>\n",
       "      <th>longitude</th>\n",
       "      <th>admin1 code</th>\n",
       "      <th>feature code</th>\n",
       "      <th>population</th>\n",
       "    </tr>\n",
       "  </thead>\n",
       "  <tbody>\n",
       "    <tr>\n",
       "      <th>19</th>\n",
       "      <td>Peyrat-le-Chateau</td>\n",
       "      <td>45.81578</td>\n",
       "      <td>1.77233</td>\n",
       "      <td>75</td>\n",
       "      <td>PPL</td>\n",
       "      <td>1140</td>\n",
       "    </tr>\n",
       "    <tr>\n",
       "      <th>23</th>\n",
       "      <td>Domecy-sur-le-Vault</td>\n",
       "      <td>47.49084</td>\n",
       "      <td>3.80953</td>\n",
       "      <td>27</td>\n",
       "      <td>PPL</td>\n",
       "      <td>107</td>\n",
       "    </tr>\n",
       "    <tr>\n",
       "      <th>24</th>\n",
       "      <td>Blaye</td>\n",
       "      <td>45.13333</td>\n",
       "      <td>-0.66667</td>\n",
       "      <td>75</td>\n",
       "      <td>PPLA3</td>\n",
       "      <td>5277</td>\n",
       "    </tr>\n",
       "    <tr>\n",
       "      <th>25</th>\n",
       "      <td>Zuytpeene</td>\n",
       "      <td>50.79473</td>\n",
       "      <td>2.43027</td>\n",
       "      <td>32</td>\n",
       "      <td>PPL</td>\n",
       "      <td>483</td>\n",
       "    </tr>\n",
       "    <tr>\n",
       "      <th>26</th>\n",
       "      <td>Zuydcoote</td>\n",
       "      <td>51.06096</td>\n",
       "      <td>2.49338</td>\n",
       "      <td>32</td>\n",
       "      <td>PPL</td>\n",
       "      <td>1660</td>\n",
       "    </tr>\n",
       "  </tbody>\n",
       "</table>\n",
       "</div>"
      ],
      "text/plain": [
       "              asciiname  latitude  longitude admin1 code feature code  \\\n",
       "19    Peyrat-le-Chateau  45.81578    1.77233          75          PPL   \n",
       "23  Domecy-sur-le-Vault  47.49084    3.80953          27          PPL   \n",
       "24                Blaye  45.13333   -0.66667          75        PPLA3   \n",
       "25            Zuytpeene  50.79473    2.43027          32          PPL   \n",
       "26            Zuydcoote  51.06096    2.49338          32          PPL   \n",
       "\n",
       "    population  \n",
       "19        1140  \n",
       "23         107  \n",
       "24        5277  \n",
       "25         483  \n",
       "26        1660  "
      ]
     },
     "execution_count": 10,
     "metadata": {},
     "output_type": "execute_result"
    }
   ],
   "source": [
    "# Drop null population\n",
    "df = df[df['population'] != 0]\n",
    "\n",
    "# Keep only cities : PPL or PPLA or PPLC feature code\n",
    "df = df[df['feature code'].str.contains(r'PPL(A\\d?|C)?$')]\n",
    "\n",
    "# Keep the columns we need\n",
    "df = df[['asciiname', 'latitude', 'longitude', 'admin1 code', 'feature code','population']]\n",
    "print('Shape : {}'.format(df.shape))\n",
    "df.head()"
   ]
  },
  {
   "cell_type": "code",
   "execution_count": 22,
   "metadata": {
    "collapsed": false
   },
   "outputs": [
    {
     "data": {
      "text/html": [
       "<div>\n",
       "<table border=\"1\" class=\"dataframe\">\n",
       "  <thead>\n",
       "    <tr style=\"text-align: right;\">\n",
       "      <th></th>\n",
       "      <th>asciiname</th>\n",
       "      <th>latitude</th>\n",
       "      <th>longitude</th>\n",
       "      <th>admin1 code</th>\n",
       "      <th>feature code</th>\n",
       "      <th>population</th>\n",
       "    </tr>\n",
       "  </thead>\n",
       "  <tbody>\n",
       "    <tr>\n",
       "      <th>19177</th>\n",
       "      <td>Pontarlier</td>\n",
       "      <td>46.90347</td>\n",
       "      <td>6.35542</td>\n",
       "      <td>27</td>\n",
       "      <td>PPLA3</td>\n",
       "      <td>20313</td>\n",
       "    </tr>\n",
       "  </tbody>\n",
       "</table>\n",
       "</div>"
      ],
      "text/plain": [
       "        asciiname  latitude  longitude admin1 code feature code  population\n",
       "19177  Pontarlier  46.90347    6.35542          27        PPLA3       20313"
      ]
     },
     "execution_count": 22,
     "metadata": {},
     "output_type": "execute_result"
    }
   ],
   "source": [
    "df[df['asciiname'] == 'Pontarlier']"
   ]
  },
  {
   "cell_type": "markdown",
   "metadata": {},
   "source": [
    "## Node Selection"
   ]
  },
  {
   "cell_type": "markdown",
   "metadata": {},
   "source": [
    "### Main idea\n",
    "The key point here is to define criteria to select the relevant nodes.\n",
    "\n",
    "Unlike for Switzerland, we can't only keep the $n$ most populated nodes, given they will be distributed all around France and most of them are probably not related to Switzerland, so won't help in any ways to detect flows.\n",
    "In addition to population, we should probably take into account the distance to Switzerland.\n",
    "\n",
    ">The idea would be to take the $n$ closest cities to Switzerland with a population more than $pop\\_threshold$, for each of the four countries. \n",
    "\n",
    "These parameters can be adapted to get more or less nodes. \n",
    "\n",
    "### Distance to Switzerland\n",
    "We need to define what does \"close to Switzerland\" means, since cities are not gonna be selected the same way if we consider the distance to the center, of to the nearest border for example.\n",
    "\n",
    "Since it seems unreasonnably hard to work with borders directly, and too much generalization to work with the \"center\" of Switzerland directly, one good approach would be to consider the nodes already generated for Swiss cities. \n",
    "\n",
    "We know that our final goal is to *match* the foreign nodes we are trying to build with the previously built swiss nodes, so it makes sense to generate nodes which have the highest probability to get matched by a flow. Those nodes are nothing else than the clostest ones to the swiss nodes.\n",
    "\n",
    "**Note** : we need to be careful with the number of nodes we generate (Swiss and foreign), since the complexity will explode with this parameter."
   ]
  },
  {
   "cell_type": "markdown",
   "metadata": {},
   "source": [
    "### Code"
   ]
  },
  {
   "cell_type": "markdown",
   "metadata": {},
   "source": [
    "First, we filter out cities by population."
   ]
  },
  {
   "cell_type": "code",
   "execution_count": 29,
   "metadata": {
    "collapsed": false
   },
   "outputs": [],
   "source": [
    "# Keep cities with pop > pop_threshold\n",
    "pop_threshold = 15000\n",
    "df = df[df['population'] > pop_threshold]"
   ]
  },
  {
   "cell_type": "markdown",
   "metadata": {},
   "source": [
    "Now we need to import the previously generated nodes and filter out cities by distance to their respective closest swiss node."
   ]
  },
  {
   "cell_type": "code",
   "execution_count": 30,
   "metadata": {
    "collapsed": true
   },
   "outputs": [],
   "source": [
    "import sys\n",
    "sys.path.append('../swiss_flows')\n",
    "from node import Node"
   ]
  },
  {
   "cell_type": "code",
   "execution_count": 32,
   "metadata": {
    "collapsed": false
   },
   "outputs": [
    {
     "name": "stderr",
     "output_type": "stream",
     "text": [
      "../swiss_flows/node.py:74: UserWarning: File already exists, importing ...\n",
      "  warnings.warn('File already exists, importing ...', UserWarning)\n"
     ]
    }
   ],
   "source": [
    "swiss_nodes = Node.generate_swiss_nodes(n_nodes=10)"
   ]
  },
  {
   "cell_type": "markdown",
   "metadata": {},
   "source": [
    "For each foreign city, we create a feature $distance$, which represents the distance to the closest swiss node."
   ]
  },
  {
   "cell_type": "code",
   "execution_count": 72,
   "metadata": {
    "collapsed": true
   },
   "outputs": [],
   "source": [
    "def find_closest_swiss_node(lat, lon):\n",
    "    # Create temporary node\n",
    "    tmp = Node('tmp', (lat, lon), 0, None)\n",
    "    \n",
    "    best_dst = 99999999\n",
    "    for node in swiss_nodes:\n",
    "        dst = tmp.dist(node)\n",
    "        best_dst = dst if dst < best_dst else best_dst\n",
    "        \n",
    "    return best_dst"
   ]
  },
  {
   "cell_type": "code",
   "execution_count": 73,
   "metadata": {
    "collapsed": false
   },
   "outputs": [
    {
     "data": {
      "text/html": [
       "<div>\n",
       "<table border=\"1\" class=\"dataframe\">\n",
       "  <thead>\n",
       "    <tr style=\"text-align: right;\">\n",
       "      <th></th>\n",
       "      <th>asciiname</th>\n",
       "      <th>latitude</th>\n",
       "      <th>longitude</th>\n",
       "      <th>admin1 code</th>\n",
       "      <th>feature code</th>\n",
       "      <th>population</th>\n",
       "      <th>distance</th>\n",
       "    </tr>\n",
       "  </thead>\n",
       "  <tbody>\n",
       "    <tr>\n",
       "      <th>11634</th>\n",
       "      <td>Saint-Louis</td>\n",
       "      <td>47.58836</td>\n",
       "      <td>7.56247</td>\n",
       "      <td>44</td>\n",
       "      <td>PPL</td>\n",
       "      <td>20871</td>\n",
       "      <td>3.429582</td>\n",
       "    </tr>\n",
       "    <tr>\n",
       "      <th>70253</th>\n",
       "      <td>Annemasse</td>\n",
       "      <td>46.19439</td>\n",
       "      <td>6.23775</td>\n",
       "      <td>84</td>\n",
       "      <td>PPL</td>\n",
       "      <td>28275</td>\n",
       "      <td>7.138707</td>\n",
       "    </tr>\n",
       "    <tr>\n",
       "      <th>5641</th>\n",
       "      <td>Thonon-les-Bains</td>\n",
       "      <td>46.36667</td>\n",
       "      <td>6.48333</td>\n",
       "      <td>84</td>\n",
       "      <td>PPLA3</td>\n",
       "      <td>31684</td>\n",
       "      <td>20.172341</td>\n",
       "    </tr>\n",
       "    <tr>\n",
       "      <th>24077</th>\n",
       "      <td>Mulhouse</td>\n",
       "      <td>47.75000</td>\n",
       "      <td>7.33333</td>\n",
       "      <td>44</td>\n",
       "      <td>PPLA3</td>\n",
       "      <td>111430</td>\n",
       "      <td>27.873514</td>\n",
       "    </tr>\n",
       "    <tr>\n",
       "      <th>45624</th>\n",
       "      <td>Illzach</td>\n",
       "      <td>47.78088</td>\n",
       "      <td>7.34662</td>\n",
       "      <td>44</td>\n",
       "      <td>PPL</td>\n",
       "      <td>15457</td>\n",
       "      <td>30.001348</td>\n",
       "    </tr>\n",
       "  </tbody>\n",
       "</table>\n",
       "</div>"
      ],
      "text/plain": [
       "              asciiname  latitude  longitude admin1 code feature code  \\\n",
       "11634       Saint-Louis  47.58836    7.56247          44          PPL   \n",
       "70253         Annemasse  46.19439    6.23775          84          PPL   \n",
       "5641   Thonon-les-Bains  46.36667    6.48333          84        PPLA3   \n",
       "24077          Mulhouse  47.75000    7.33333          44        PPLA3   \n",
       "45624           Illzach  47.78088    7.34662          44          PPL   \n",
       "\n",
       "       population   distance  \n",
       "11634       20871   3.429582  \n",
       "70253       28275   7.138707  \n",
       "5641        31684  20.172341  \n",
       "24077      111430  27.873514  \n",
       "45624       15457  30.001348  "
      ]
     },
     "execution_count": 73,
     "metadata": {},
     "output_type": "execute_result"
    }
   ],
   "source": [
    "# Create the new distance feature\n",
    "df['distance'] = df.apply(lambda x: find_closest_swiss_node(x['latitude'], x['longitude']), axis=1)\n",
    "df.head()"
   ]
  },
  {
   "cell_type": "markdown",
   "metadata": {},
   "source": [
    "Now it remains to take the $n$ closest cities : "
   ]
  },
  {
   "cell_type": "code",
   "execution_count": 76,
   "metadata": {
    "collapsed": false
   },
   "outputs": [
    {
     "data": {
      "text/html": [
       "<div>\n",
       "<table border=\"1\" class=\"dataframe\">\n",
       "  <thead>\n",
       "    <tr style=\"text-align: right;\">\n",
       "      <th></th>\n",
       "      <th>asciiname</th>\n",
       "      <th>latitude</th>\n",
       "      <th>longitude</th>\n",
       "      <th>admin1 code</th>\n",
       "      <th>feature code</th>\n",
       "      <th>population</th>\n",
       "      <th>distance</th>\n",
       "    </tr>\n",
       "  </thead>\n",
       "  <tbody>\n",
       "    <tr>\n",
       "      <th>11634</th>\n",
       "      <td>Saint-Louis</td>\n",
       "      <td>47.58836</td>\n",
       "      <td>7.56247</td>\n",
       "      <td>44</td>\n",
       "      <td>PPL</td>\n",
       "      <td>20871</td>\n",
       "      <td>3.429582</td>\n",
       "    </tr>\n",
       "    <tr>\n",
       "      <th>70253</th>\n",
       "      <td>Annemasse</td>\n",
       "      <td>46.19439</td>\n",
       "      <td>6.23775</td>\n",
       "      <td>84</td>\n",
       "      <td>PPL</td>\n",
       "      <td>28275</td>\n",
       "      <td>7.138707</td>\n",
       "    </tr>\n",
       "    <tr>\n",
       "      <th>5641</th>\n",
       "      <td>Thonon-les-Bains</td>\n",
       "      <td>46.36667</td>\n",
       "      <td>6.48333</td>\n",
       "      <td>84</td>\n",
       "      <td>PPLA3</td>\n",
       "      <td>31684</td>\n",
       "      <td>20.172341</td>\n",
       "    </tr>\n",
       "    <tr>\n",
       "      <th>24077</th>\n",
       "      <td>Mulhouse</td>\n",
       "      <td>47.75000</td>\n",
       "      <td>7.33333</td>\n",
       "      <td>44</td>\n",
       "      <td>PPLA3</td>\n",
       "      <td>111430</td>\n",
       "      <td>27.873514</td>\n",
       "    </tr>\n",
       "    <tr>\n",
       "      <th>45624</th>\n",
       "      <td>Illzach</td>\n",
       "      <td>47.78088</td>\n",
       "      <td>7.34662</td>\n",
       "      <td>44</td>\n",
       "      <td>PPL</td>\n",
       "      <td>15457</td>\n",
       "      <td>30.001348</td>\n",
       "    </tr>\n",
       "    <tr>\n",
       "      <th>70255</th>\n",
       "      <td>Annecy-le-Vieux</td>\n",
       "      <td>45.91971</td>\n",
       "      <td>6.14393</td>\n",
       "      <td>84</td>\n",
       "      <td>PPL</td>\n",
       "      <td>21521</td>\n",
       "      <td>31.413972</td>\n",
       "    </tr>\n",
       "    <tr>\n",
       "      <th>234</th>\n",
       "      <td>Wittenheim</td>\n",
       "      <td>47.80780</td>\n",
       "      <td>7.33702</td>\n",
       "      <td>44</td>\n",
       "      <td>PPL</td>\n",
       "      <td>15747</td>\n",
       "      <td>32.892333</td>\n",
       "    </tr>\n",
       "    <tr>\n",
       "      <th>70258</th>\n",
       "      <td>Annecy</td>\n",
       "      <td>45.90000</td>\n",
       "      <td>6.11667</td>\n",
       "      <td>84</td>\n",
       "      <td>PPLA2</td>\n",
       "      <td>49232</td>\n",
       "      <td>33.679869</td>\n",
       "    </tr>\n",
       "    <tr>\n",
       "      <th>55459</th>\n",
       "      <td>Cran-Gevrier</td>\n",
       "      <td>45.90000</td>\n",
       "      <td>6.10000</td>\n",
       "      <td>84</td>\n",
       "      <td>PPL</td>\n",
       "      <td>19354</td>\n",
       "      <td>33.789798</td>\n",
       "    </tr>\n",
       "    <tr>\n",
       "      <th>7551</th>\n",
       "      <td>Seynod</td>\n",
       "      <td>45.88549</td>\n",
       "      <td>6.08831</td>\n",
       "      <td>84</td>\n",
       "      <td>PPL</td>\n",
       "      <td>18590</td>\n",
       "      <td>35.496120</td>\n",
       "    </tr>\n",
       "  </tbody>\n",
       "</table>\n",
       "</div>"
      ],
      "text/plain": [
       "              asciiname  latitude  longitude admin1 code feature code  \\\n",
       "11634       Saint-Louis  47.58836    7.56247          44          PPL   \n",
       "70253         Annemasse  46.19439    6.23775          84          PPL   \n",
       "5641   Thonon-les-Bains  46.36667    6.48333          84        PPLA3   \n",
       "24077          Mulhouse  47.75000    7.33333          44        PPLA3   \n",
       "45624           Illzach  47.78088    7.34662          44          PPL   \n",
       "70255   Annecy-le-Vieux  45.91971    6.14393          84          PPL   \n",
       "234          Wittenheim  47.80780    7.33702          44          PPL   \n",
       "70258            Annecy  45.90000    6.11667          84        PPLA2   \n",
       "55459      Cran-Gevrier  45.90000    6.10000          84          PPL   \n",
       "7551             Seynod  45.88549    6.08831          84          PPL   \n",
       "\n",
       "       population   distance  \n",
       "11634       20871   3.429582  \n",
       "70253       28275   7.138707  \n",
       "5641        31684  20.172341  \n",
       "24077      111430  27.873514  \n",
       "45624       15457  30.001348  \n",
       "70255       21521  31.413972  \n",
       "234         15747  32.892333  \n",
       "70258       49232  33.679869  \n",
       "55459       19354  33.789798  \n",
       "7551        18590  35.496120  "
      ]
     },
     "execution_count": 76,
     "metadata": {},
     "output_type": "execute_result"
    }
   ],
   "source": [
    "n = 10\n",
    "\n",
    "# Sort rows by distance \n",
    "df = df.sort_values(by='distance', ascending=True)\n",
    "\n",
    "# Take the n first\n",
    "df = df[:n]\n",
    "df"
   ]
  },
  {
   "cell_type": "markdown",
   "metadata": {},
   "source": [
    "Building the actual `Node`s out of it requires the same process than in the swiss node notebook."
   ]
  }
 ],
 "metadata": {
  "kernelspec": {
   "display_name": "Python 3",
   "language": "python",
   "name": "python3"
  },
  "language_info": {
   "codemirror_mode": {
    "name": "ipython",
    "version": 3
   },
   "file_extension": ".py",
   "mimetype": "text/x-python",
   "name": "python",
   "nbconvert_exporter": "python",
   "pygments_lexer": "ipython3",
   "version": "3.5.2"
  }
 },
 "nbformat": 4,
 "nbformat_minor": 1
}
