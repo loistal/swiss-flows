{
 "cells": [
  {
   "cell_type": "markdown",
   "metadata": {},
   "source": [
    "# Nodes generation"
   ]
  },
  {
   "cell_type": "markdown",
   "metadata": {},
   "source": [
    "This notebook describes the proces to generate the nodes from the [geonames downloads](http://download.geonames.org/export/dump/) data."
   ]
  },
  {
   "cell_type": "code",
   "execution_count": 1,
   "metadata": {
    "collapsed": false
   },
   "outputs": [],
   "source": [
    "import pandas as pd\n",
    "import seaborn as sns\n",
    "import matplotlib.pyplot as plt"
   ]
  },
  {
   "cell_type": "markdown",
   "metadata": {},
   "source": [
    "## Geonames Data"
   ]
  },
  {
   "cell_type": "code",
   "execution_count": 2,
   "metadata": {
    "collapsed": false
   },
   "outputs": [
    {
     "data": {
      "text/html": [
       "<div>\n",
       "<table border=\"1\" class=\"dataframe\">\n",
       "  <thead>\n",
       "    <tr style=\"text-align: right;\">\n",
       "      <th></th>\n",
       "      <th>0</th>\n",
       "      <th>1</th>\n",
       "      <th>2</th>\n",
       "      <th>3</th>\n",
       "      <th>4</th>\n",
       "      <th>5</th>\n",
       "      <th>6</th>\n",
       "      <th>7</th>\n",
       "      <th>8</th>\n",
       "      <th>9</th>\n",
       "      <th>10</th>\n",
       "      <th>11</th>\n",
       "      <th>12</th>\n",
       "      <th>13</th>\n",
       "      <th>14</th>\n",
       "      <th>15</th>\n",
       "      <th>16</th>\n",
       "      <th>17</th>\n",
       "      <th>18</th>\n",
       "    </tr>\n",
       "  </thead>\n",
       "  <tbody>\n",
       "    <tr>\n",
       "      <th>0</th>\n",
       "      <td>2657883</td>\n",
       "      <td>Zuger See</td>\n",
       "      <td>Zuger See</td>\n",
       "      <td>Lac de Zoug,Lago di Zug,Lai da Zug,Lake Zug,La...</td>\n",
       "      <td>47.13130</td>\n",
       "      <td>8.48335</td>\n",
       "      <td>H</td>\n",
       "      <td>LK</td>\n",
       "      <td>CH</td>\n",
       "      <td>NaN</td>\n",
       "      <td>00</td>\n",
       "      <td>NaN</td>\n",
       "      <td>NaN</td>\n",
       "      <td>NaN</td>\n",
       "      <td>0</td>\n",
       "      <td>413.0</td>\n",
       "      <td>411</td>\n",
       "      <td>Europe/Zurich</td>\n",
       "      <td>2012-02-01</td>\n",
       "    </tr>\n",
       "    <tr>\n",
       "      <th>1</th>\n",
       "      <td>2657884</td>\n",
       "      <td>Zwischbergental</td>\n",
       "      <td>Zwischbergental</td>\n",
       "      <td>Zwischberg-Thal,Zwischbergental</td>\n",
       "      <td>46.16667</td>\n",
       "      <td>8.13333</td>\n",
       "      <td>T</td>\n",
       "      <td>VAL</td>\n",
       "      <td>CH</td>\n",
       "      <td>CH</td>\n",
       "      <td>VS</td>\n",
       "      <td>NaN</td>\n",
       "      <td>NaN</td>\n",
       "      <td>NaN</td>\n",
       "      <td>0</td>\n",
       "      <td>NaN</td>\n",
       "      <td>1671</td>\n",
       "      <td>Europe/Zurich</td>\n",
       "      <td>2012-01-17</td>\n",
       "    </tr>\n",
       "    <tr>\n",
       "      <th>2</th>\n",
       "      <td>2657885</td>\n",
       "      <td>Zwischbergen</td>\n",
       "      <td>Zwischbergen</td>\n",
       "      <td>Zwischbergen,ci wei shi bei gen,茨維施貝根</td>\n",
       "      <td>46.16366</td>\n",
       "      <td>8.11575</td>\n",
       "      <td>P</td>\n",
       "      <td>PPL</td>\n",
       "      <td>CH</td>\n",
       "      <td>NaN</td>\n",
       "      <td>VS</td>\n",
       "      <td>2301.0</td>\n",
       "      <td>6011.0</td>\n",
       "      <td>NaN</td>\n",
       "      <td>127</td>\n",
       "      <td>NaN</td>\n",
       "      <td>1322</td>\n",
       "      <td>Europe/Zurich</td>\n",
       "      <td>2012-01-17</td>\n",
       "    </tr>\n",
       "    <tr>\n",
       "      <th>3</th>\n",
       "      <td>2657886</td>\n",
       "      <td>Zwingen</td>\n",
       "      <td>Zwingen</td>\n",
       "      <td>Cvingen,ci wen gen,Цвинген,茨溫根</td>\n",
       "      <td>47.43825</td>\n",
       "      <td>7.53027</td>\n",
       "      <td>P</td>\n",
       "      <td>PPL</td>\n",
       "      <td>CH</td>\n",
       "      <td>NaN</td>\n",
       "      <td>BL</td>\n",
       "      <td>1302.0</td>\n",
       "      <td>2793.0</td>\n",
       "      <td>NaN</td>\n",
       "      <td>2162</td>\n",
       "      <td>NaN</td>\n",
       "      <td>342</td>\n",
       "      <td>Europe/Zurich</td>\n",
       "      <td>2013-02-28</td>\n",
       "    </tr>\n",
       "    <tr>\n",
       "      <th>4</th>\n",
       "      <td>2657887</td>\n",
       "      <td>Zweisimmen</td>\n",
       "      <td>Zweisimmen</td>\n",
       "      <td>Cvajzimmen,Zweisimmen,Zweisimmeni vald,ci wei ...</td>\n",
       "      <td>46.55452</td>\n",
       "      <td>7.37385</td>\n",
       "      <td>P</td>\n",
       "      <td>PPL</td>\n",
       "      <td>CH</td>\n",
       "      <td>NaN</td>\n",
       "      <td>BE</td>\n",
       "      <td>248.0</td>\n",
       "      <td>794.0</td>\n",
       "      <td>NaN</td>\n",
       "      <td>2813</td>\n",
       "      <td>NaN</td>\n",
       "      <td>944</td>\n",
       "      <td>Europe/Zurich</td>\n",
       "      <td>2013-02-28</td>\n",
       "    </tr>\n",
       "  </tbody>\n",
       "</table>\n",
       "</div>"
      ],
      "text/plain": [
       "        0                1                2   \\\n",
       "0  2657883        Zuger See        Zuger See   \n",
       "1  2657884  Zwischbergental  Zwischbergental   \n",
       "2  2657885     Zwischbergen     Zwischbergen   \n",
       "3  2657886          Zwingen          Zwingen   \n",
       "4  2657887       Zweisimmen       Zweisimmen   \n",
       "\n",
       "                                                  3         4        5  6   \\\n",
       "0  Lac de Zoug,Lago di Zug,Lai da Zug,Lake Zug,La...  47.13130  8.48335  H   \n",
       "1                    Zwischberg-Thal,Zwischbergental  46.16667  8.13333  T   \n",
       "2              Zwischbergen,ci wei shi bei gen,茨維施貝根  46.16366  8.11575  P   \n",
       "3                     Cvingen,ci wen gen,Цвинген,茨溫根  47.43825  7.53027  P   \n",
       "4  Cvajzimmen,Zweisimmen,Zweisimmeni vald,ci wei ...  46.55452  7.37385  P   \n",
       "\n",
       "    7   8    9   10      11      12  13    14     15    16             17  \\\n",
       "0   LK  CH  NaN  00     NaN     NaN NaN     0  413.0   411  Europe/Zurich   \n",
       "1  VAL  CH   CH  VS     NaN     NaN NaN     0    NaN  1671  Europe/Zurich   \n",
       "2  PPL  CH  NaN  VS  2301.0  6011.0 NaN   127    NaN  1322  Europe/Zurich   \n",
       "3  PPL  CH  NaN  BL  1302.0  2793.0 NaN  2162    NaN   342  Europe/Zurich   \n",
       "4  PPL  CH  NaN  BE   248.0   794.0 NaN  2813    NaN   944  Europe/Zurich   \n",
       "\n",
       "           18  \n",
       "0  2012-02-01  \n",
       "1  2012-01-17  \n",
       "2  2012-01-17  \n",
       "3  2013-02-28  \n",
       "4  2013-02-28  "
      ]
     },
     "execution_count": 2,
     "metadata": {},
     "output_type": "execute_result"
    }
   ],
   "source": [
    "# Data delimited by tabs, utf-8 encoding\n",
    "df = pd.read_csv('../data/CH/CH.txt', header=None, encoding='utf8', delimiter='\\t', dtype={9: str})\n",
    "df.head()"
   ]
  },
  {
   "cell_type": "code",
   "execution_count": 3,
   "metadata": {
    "collapsed": false
   },
   "outputs": [
    {
     "data": {
      "text/html": [
       "<div>\n",
       "<table border=\"1\" class=\"dataframe\">\n",
       "  <thead>\n",
       "    <tr style=\"text-align: right;\">\n",
       "      <th></th>\n",
       "      <th>geonameid</th>\n",
       "      <th>name</th>\n",
       "      <th>asciiname</th>\n",
       "      <th>alternatenames</th>\n",
       "      <th>latitude</th>\n",
       "      <th>longitude</th>\n",
       "      <th>feature class</th>\n",
       "      <th>feature code</th>\n",
       "      <th>country code</th>\n",
       "      <th>cc2</th>\n",
       "      <th>admin1 code</th>\n",
       "      <th>admin2 code</th>\n",
       "      <th>admin3 code</th>\n",
       "      <th>admin4 code</th>\n",
       "      <th>population</th>\n",
       "      <th>elevation</th>\n",
       "      <th>dem</th>\n",
       "      <th>timezone</th>\n",
       "      <th>modification date</th>\n",
       "    </tr>\n",
       "  </thead>\n",
       "  <tbody>\n",
       "    <tr>\n",
       "      <th>0</th>\n",
       "      <td>2657883</td>\n",
       "      <td>Zuger See</td>\n",
       "      <td>Zuger See</td>\n",
       "      <td>Lac de Zoug,Lago di Zug,Lai da Zug,Lake Zug,La...</td>\n",
       "      <td>47.13130</td>\n",
       "      <td>8.48335</td>\n",
       "      <td>H</td>\n",
       "      <td>LK</td>\n",
       "      <td>CH</td>\n",
       "      <td>NaN</td>\n",
       "      <td>00</td>\n",
       "      <td>NaN</td>\n",
       "      <td>NaN</td>\n",
       "      <td>NaN</td>\n",
       "      <td>0</td>\n",
       "      <td>413.0</td>\n",
       "      <td>411</td>\n",
       "      <td>Europe/Zurich</td>\n",
       "      <td>2012-02-01</td>\n",
       "    </tr>\n",
       "    <tr>\n",
       "      <th>1</th>\n",
       "      <td>2657884</td>\n",
       "      <td>Zwischbergental</td>\n",
       "      <td>Zwischbergental</td>\n",
       "      <td>Zwischberg-Thal,Zwischbergental</td>\n",
       "      <td>46.16667</td>\n",
       "      <td>8.13333</td>\n",
       "      <td>T</td>\n",
       "      <td>VAL</td>\n",
       "      <td>CH</td>\n",
       "      <td>CH</td>\n",
       "      <td>VS</td>\n",
       "      <td>NaN</td>\n",
       "      <td>NaN</td>\n",
       "      <td>NaN</td>\n",
       "      <td>0</td>\n",
       "      <td>NaN</td>\n",
       "      <td>1671</td>\n",
       "      <td>Europe/Zurich</td>\n",
       "      <td>2012-01-17</td>\n",
       "    </tr>\n",
       "    <tr>\n",
       "      <th>2</th>\n",
       "      <td>2657885</td>\n",
       "      <td>Zwischbergen</td>\n",
       "      <td>Zwischbergen</td>\n",
       "      <td>Zwischbergen,ci wei shi bei gen,茨維施貝根</td>\n",
       "      <td>46.16366</td>\n",
       "      <td>8.11575</td>\n",
       "      <td>P</td>\n",
       "      <td>PPL</td>\n",
       "      <td>CH</td>\n",
       "      <td>NaN</td>\n",
       "      <td>VS</td>\n",
       "      <td>2301.0</td>\n",
       "      <td>6011.0</td>\n",
       "      <td>NaN</td>\n",
       "      <td>127</td>\n",
       "      <td>NaN</td>\n",
       "      <td>1322</td>\n",
       "      <td>Europe/Zurich</td>\n",
       "      <td>2012-01-17</td>\n",
       "    </tr>\n",
       "    <tr>\n",
       "      <th>3</th>\n",
       "      <td>2657886</td>\n",
       "      <td>Zwingen</td>\n",
       "      <td>Zwingen</td>\n",
       "      <td>Cvingen,ci wen gen,Цвинген,茨溫根</td>\n",
       "      <td>47.43825</td>\n",
       "      <td>7.53027</td>\n",
       "      <td>P</td>\n",
       "      <td>PPL</td>\n",
       "      <td>CH</td>\n",
       "      <td>NaN</td>\n",
       "      <td>BL</td>\n",
       "      <td>1302.0</td>\n",
       "      <td>2793.0</td>\n",
       "      <td>NaN</td>\n",
       "      <td>2162</td>\n",
       "      <td>NaN</td>\n",
       "      <td>342</td>\n",
       "      <td>Europe/Zurich</td>\n",
       "      <td>2013-02-28</td>\n",
       "    </tr>\n",
       "    <tr>\n",
       "      <th>4</th>\n",
       "      <td>2657887</td>\n",
       "      <td>Zweisimmen</td>\n",
       "      <td>Zweisimmen</td>\n",
       "      <td>Cvajzimmen,Zweisimmen,Zweisimmeni vald,ci wei ...</td>\n",
       "      <td>46.55452</td>\n",
       "      <td>7.37385</td>\n",
       "      <td>P</td>\n",
       "      <td>PPL</td>\n",
       "      <td>CH</td>\n",
       "      <td>NaN</td>\n",
       "      <td>BE</td>\n",
       "      <td>248.0</td>\n",
       "      <td>794.0</td>\n",
       "      <td>NaN</td>\n",
       "      <td>2813</td>\n",
       "      <td>NaN</td>\n",
       "      <td>944</td>\n",
       "      <td>Europe/Zurich</td>\n",
       "      <td>2013-02-28</td>\n",
       "    </tr>\n",
       "  </tbody>\n",
       "</table>\n",
       "</div>"
      ],
      "text/plain": [
       "   geonameid             name        asciiname  \\\n",
       "0    2657883        Zuger See        Zuger See   \n",
       "1    2657884  Zwischbergental  Zwischbergental   \n",
       "2    2657885     Zwischbergen     Zwischbergen   \n",
       "3    2657886          Zwingen          Zwingen   \n",
       "4    2657887       Zweisimmen       Zweisimmen   \n",
       "\n",
       "                                      alternatenames  latitude  longitude  \\\n",
       "0  Lac de Zoug,Lago di Zug,Lai da Zug,Lake Zug,La...  47.13130    8.48335   \n",
       "1                    Zwischberg-Thal,Zwischbergental  46.16667    8.13333   \n",
       "2              Zwischbergen,ci wei shi bei gen,茨維施貝根  46.16366    8.11575   \n",
       "3                     Cvingen,ci wen gen,Цвинген,茨溫根  47.43825    7.53027   \n",
       "4  Cvajzimmen,Zweisimmen,Zweisimmeni vald,ci wei ...  46.55452    7.37385   \n",
       "\n",
       "  feature class feature code country code  cc2 admin1 code  admin2 code  \\\n",
       "0             H           LK           CH  NaN          00          NaN   \n",
       "1             T          VAL           CH   CH          VS          NaN   \n",
       "2             P          PPL           CH  NaN          VS       2301.0   \n",
       "3             P          PPL           CH  NaN          BL       1302.0   \n",
       "4             P          PPL           CH  NaN          BE        248.0   \n",
       "\n",
       "   admin3 code  admin4 code  population  elevation   dem       timezone  \\\n",
       "0          NaN          NaN           0      413.0   411  Europe/Zurich   \n",
       "1          NaN          NaN           0        NaN  1671  Europe/Zurich   \n",
       "2       6011.0          NaN         127        NaN  1322  Europe/Zurich   \n",
       "3       2793.0          NaN        2162        NaN   342  Europe/Zurich   \n",
       "4        794.0          NaN        2813        NaN   944  Europe/Zurich   \n",
       "\n",
       "  modification date  \n",
       "0        2012-02-01  \n",
       "1        2012-01-17  \n",
       "2        2012-01-17  \n",
       "3        2013-02-28  \n",
       "4        2013-02-28  "
      ]
     },
     "execution_count": 3,
     "metadata": {},
     "output_type": "execute_result"
    }
   ],
   "source": [
    "# Build the index\n",
    "index = ['geonameid', 'name', 'asciiname', 'alternatenames', 'latitude', 'longitude', 'feature class',\n",
    "         'feature code', 'country code', 'cc2', 'admin1 code', 'admin2 code', 'admin3 code', 'admin4 code',\n",
    "         'population', 'elevation', 'dem', 'timezone', 'modification date']\n",
    "\n",
    "df.columns = index\n",
    "df.head()"
   ]
  },
  {
   "cell_type": "markdown",
   "metadata": {},
   "source": [
    "We are interested in the names, coordinates, population and maybe cantons. We also need the feature code columns since this feature tells us if it's a city, a lake, a region.. So rows without this information are useless: "
   ]
  },
  {
   "cell_type": "code",
   "execution_count": 4,
   "metadata": {
    "collapsed": false
   },
   "outputs": [
    {
     "name": "stdout",
     "output_type": "stream",
     "text": [
      "NaN values : \n",
      "\t Latitude : 0.\n",
      "\t Longitude : 0.\n",
      "\t Cantons : 5.\n",
      "\t Population : 0.\n",
      "\t Feature code : 0.\n"
     ]
    }
   ],
   "source": [
    "print('NaN values : ')\n",
    "print('\\t Latitude : {}.'.format(df['latitude'].isnull().sum()))\n",
    "print('\\t Longitude : {}.'.format(df['longitude'].isnull().sum()))\n",
    "print('\\t Cantons : {}.'.format(df['admin1 code'].isnull().sum()))\n",
    "print('\\t Population : {}.'.format(df['population'].isnull().sum()))\n",
    "print('\\t Feature code : {}.'.format(df['feature code'].isnull().sum()))"
   ]
  },
  {
   "cell_type": "markdown",
   "metadata": {},
   "source": [
    "The data seems to be dense for the features we are interested in, that's nice."
   ]
  },
  {
   "cell_type": "markdown",
   "metadata": {},
   "source": [
    "It seems the population is 0 pretty often though, these places doesn't correspond to cities : "
   ]
  },
  {
   "cell_type": "code",
   "execution_count": 5,
   "metadata": {
    "collapsed": false
   },
   "outputs": [
    {
     "name": "stdout",
     "output_type": "stream",
     "text": [
      "0 population : 0.8276400617452102 %\n"
     ]
    }
   ],
   "source": [
    "nullpop = df['population'].value_counts()[0] / len(df['population'])\n",
    "print('0 population : {} %'.format(nullpop))"
   ]
  },
  {
   "cell_type": "markdown",
   "metadata": {},
   "source": [
    "We drop these rows and columns we don't need. See [this page](http://www.geonames.org/export/codes.html) for the feature code references. "
   ]
  },
  {
   "cell_type": "code",
   "execution_count": 6,
   "metadata": {
    "collapsed": false
   },
   "outputs": [
    {
     "name": "stdout",
     "output_type": "stream",
     "text": [
      "Shape : (2863, 6)\n"
     ]
    },
    {
     "name": "stderr",
     "output_type": "stream",
     "text": [
      "/usr/local/lib/python3.5/site-packages/ipykernel/__main__.py:5: UserWarning: This pattern has match groups. To actually get the groups, use str.extract.\n"
     ]
    },
    {
     "data": {
      "text/html": [
       "<div>\n",
       "<table border=\"1\" class=\"dataframe\">\n",
       "  <thead>\n",
       "    <tr style=\"text-align: right;\">\n",
       "      <th></th>\n",
       "      <th>asciiname</th>\n",
       "      <th>latitude</th>\n",
       "      <th>longitude</th>\n",
       "      <th>admin1 code</th>\n",
       "      <th>feature code</th>\n",
       "      <th>population</th>\n",
       "    </tr>\n",
       "  </thead>\n",
       "  <tbody>\n",
       "    <tr>\n",
       "      <th>2</th>\n",
       "      <td>Zwischbergen</td>\n",
       "      <td>46.16366</td>\n",
       "      <td>8.11575</td>\n",
       "      <td>VS</td>\n",
       "      <td>PPL</td>\n",
       "      <td>127</td>\n",
       "    </tr>\n",
       "    <tr>\n",
       "      <th>3</th>\n",
       "      <td>Zwingen</td>\n",
       "      <td>47.43825</td>\n",
       "      <td>7.53027</td>\n",
       "      <td>BL</td>\n",
       "      <td>PPL</td>\n",
       "      <td>2162</td>\n",
       "    </tr>\n",
       "    <tr>\n",
       "      <th>4</th>\n",
       "      <td>Zweisimmen</td>\n",
       "      <td>46.55452</td>\n",
       "      <td>7.37385</td>\n",
       "      <td>BE</td>\n",
       "      <td>PPL</td>\n",
       "      <td>2813</td>\n",
       "    </tr>\n",
       "    <tr>\n",
       "      <th>6</th>\n",
       "      <td>Zuzwil</td>\n",
       "      <td>47.47452</td>\n",
       "      <td>9.11196</td>\n",
       "      <td>SG</td>\n",
       "      <td>PPL</td>\n",
       "      <td>4226</td>\n",
       "    </tr>\n",
       "    <tr>\n",
       "      <th>7</th>\n",
       "      <td>Zuzgen</td>\n",
       "      <td>47.52508</td>\n",
       "      <td>7.89986</td>\n",
       "      <td>AG</td>\n",
       "      <td>PPL</td>\n",
       "      <td>863</td>\n",
       "    </tr>\n",
       "  </tbody>\n",
       "</table>\n",
       "</div>"
      ],
      "text/plain": [
       "      asciiname  latitude  longitude admin1 code feature code  population\n",
       "2  Zwischbergen  46.16366    8.11575          VS          PPL         127\n",
       "3       Zwingen  47.43825    7.53027          BL          PPL        2162\n",
       "4    Zweisimmen  46.55452    7.37385          BE          PPL        2813\n",
       "6        Zuzwil  47.47452    9.11196          SG          PPL        4226\n",
       "7        Zuzgen  47.52508    7.89986          AG          PPL         863"
      ]
     },
     "execution_count": 6,
     "metadata": {},
     "output_type": "execute_result"
    }
   ],
   "source": [
    "# Drop null population\n",
    "df = df[df['population'] != 0]\n",
    "\n",
    "# Keep only cities : PPL or PPLA or PPLC feature code\n",
    "df = df[df['feature code'].str.contains(r'PPL(A\\d?|C)?$')]\n",
    "\n",
    "# Keep the columns we need\n",
    "df = df[['asciiname', 'latitude', 'longitude', 'admin1 code', 'feature code','population']]\n",
    "print('Shape : {}'.format(df.shape))\n",
    "df.head()"
   ]
  },
  {
   "cell_type": "markdown",
   "metadata": {},
   "source": [
    "## Node selection"
   ]
  },
  {
   "cell_type": "markdown",
   "metadata": {},
   "source": [
    "The question now is to decide which cities we should keep or not to create our nodes. Given main flows probably occur between most important cities, we decide to filter the cities by population. We take the $n$ most populated cities, with $n$ being a parameter."
   ]
  },
  {
   "cell_type": "code",
   "execution_count": 7,
   "metadata": {
    "collapsed": false
   },
   "outputs": [
    {
     "data": {
      "text/html": [
       "<div>\n",
       "<table border=\"1\" class=\"dataframe\">\n",
       "  <thead>\n",
       "    <tr style=\"text-align: right;\">\n",
       "      <th></th>\n",
       "      <th>asciiname</th>\n",
       "      <th>latitude</th>\n",
       "      <th>longitude</th>\n",
       "      <th>admin1 code</th>\n",
       "      <th>feature code</th>\n",
       "      <th>population</th>\n",
       "    </tr>\n",
       "  </thead>\n",
       "  <tbody>\n",
       "    <tr>\n",
       "      <th>13</th>\n",
       "      <td>Zurich</td>\n",
       "      <td>47.36667</td>\n",
       "      <td>8.55000</td>\n",
       "      <td>ZH</td>\n",
       "      <td>PPLA</td>\n",
       "      <td>341730</td>\n",
       "    </tr>\n",
       "    <tr>\n",
       "      <th>2700</th>\n",
       "      <td>Geneve</td>\n",
       "      <td>46.20222</td>\n",
       "      <td>6.14569</td>\n",
       "      <td>GE</td>\n",
       "      <td>PPLA</td>\n",
       "      <td>183981</td>\n",
       "    </tr>\n",
       "    <tr>\n",
       "      <th>3638</th>\n",
       "      <td>Basel</td>\n",
       "      <td>47.55839</td>\n",
       "      <td>7.57327</td>\n",
       "      <td>BS</td>\n",
       "      <td>PPLA</td>\n",
       "      <td>164488</td>\n",
       "    </tr>\n",
       "    <tr>\n",
       "      <th>3586</th>\n",
       "      <td>Bern</td>\n",
       "      <td>46.94809</td>\n",
       "      <td>7.44744</td>\n",
       "      <td>BE</td>\n",
       "      <td>PPLC</td>\n",
       "      <td>121631</td>\n",
       "    </tr>\n",
       "    <tr>\n",
       "      <th>2059</th>\n",
       "      <td>Lausanne</td>\n",
       "      <td>46.51600</td>\n",
       "      <td>6.63282</td>\n",
       "      <td>VD</td>\n",
       "      <td>PPLA</td>\n",
       "      <td>116751</td>\n",
       "    </tr>\n",
       "    <tr>\n",
       "      <th>85</th>\n",
       "      <td>Winterthur</td>\n",
       "      <td>47.50564</td>\n",
       "      <td>8.72413</td>\n",
       "      <td>ZH</td>\n",
       "      <td>PPLA2</td>\n",
       "      <td>91908</td>\n",
       "    </tr>\n",
       "    <tr>\n",
       "      <th>914</th>\n",
       "      <td>Sankt Gallen</td>\n",
       "      <td>47.42391</td>\n",
       "      <td>9.37477</td>\n",
       "      <td>SG</td>\n",
       "      <td>PPLA</td>\n",
       "      <td>70572</td>\n",
       "    </tr>\n",
       "    <tr>\n",
       "      <th>1881</th>\n",
       "      <td>Luzern</td>\n",
       "      <td>47.05048</td>\n",
       "      <td>8.30635</td>\n",
       "      <td>LU</td>\n",
       "      <td>PPLA</td>\n",
       "      <td>57066</td>\n",
       "    </tr>\n",
       "    <tr>\n",
       "      <th>3547</th>\n",
       "      <td>Biel/Bienne</td>\n",
       "      <td>47.13713</td>\n",
       "      <td>7.24608</td>\n",
       "      <td>BE</td>\n",
       "      <td>PPLA2</td>\n",
       "      <td>48614</td>\n",
       "    </tr>\n",
       "    <tr>\n",
       "      <th>482</th>\n",
       "      <td>Thun</td>\n",
       "      <td>46.75118</td>\n",
       "      <td>7.62166</td>\n",
       "      <td>BE</td>\n",
       "      <td>PPLA2</td>\n",
       "      <td>42136</td>\n",
       "    </tr>\n",
       "  </tbody>\n",
       "</table>\n",
       "</div>"
      ],
      "text/plain": [
       "         asciiname  latitude  longitude admin1 code feature code  population\n",
       "13          Zurich  47.36667    8.55000          ZH         PPLA      341730\n",
       "2700        Geneve  46.20222    6.14569          GE         PPLA      183981\n",
       "3638         Basel  47.55839    7.57327          BS         PPLA      164488\n",
       "3586          Bern  46.94809    7.44744          BE         PPLC      121631\n",
       "2059      Lausanne  46.51600    6.63282          VD         PPLA      116751\n",
       "85      Winterthur  47.50564    8.72413          ZH        PPLA2       91908\n",
       "914   Sankt Gallen  47.42391    9.37477          SG         PPLA       70572\n",
       "1881        Luzern  47.05048    8.30635          LU         PPLA       57066\n",
       "3547   Biel/Bienne  47.13713    7.24608          BE        PPLA2       48614\n",
       "482           Thun  46.75118    7.62166          BE        PPLA2       42136"
      ]
     },
     "execution_count": 7,
     "metadata": {},
     "output_type": "execute_result"
    }
   ],
   "source": [
    "n = 10\n",
    "\n",
    "# Sort rows by population \n",
    "df = df.sort_values(by='population', ascending=False)\n",
    "\n",
    "# Take the n first\n",
    "df = df[:n]\n",
    "df"
   ]
  },
  {
   "cell_type": "markdown",
   "metadata": {},
   "source": [
    "We now have our $n$ most populated cities."
   ]
  },
  {
   "cell_type": "markdown",
   "metadata": {},
   "source": [
    "## Creating the nodes"
   ]
  },
  {
   "cell_type": "markdown",
   "metadata": {},
   "source": [
    "We are now ready to create our nodes from the dataframe rows, we use the `class Node`, from the `node.py` module."
   ]
  },
  {
   "cell_type": "code",
   "execution_count": 8,
   "metadata": {
    "collapsed": true
   },
   "outputs": [],
   "source": [
    "import sys\n",
    "sys.path.append('../swiss_flows')\n",
    "\n",
    "from node import Node"
   ]
  },
  {
   "cell_type": "code",
   "execution_count": 9,
   "metadata": {
    "collapsed": false
   },
   "outputs": [],
   "source": [
    "# List of nodes\n",
    "nodes = []\n",
    "\n",
    "# Iterate over the rows\n",
    "for row in df.iterrows():\n",
    "    args = {\n",
    "        'name': row[1].asciiname, \n",
    "        'position': (row[1].latitude, row[1].longitude),\n",
    "        'population': row[1].population,\n",
    "        'canton': row[1]['admin1 code']\n",
    "    }\n",
    "    nodes.append(Node(**args))"
   ]
  },
  {
   "cell_type": "code",
   "execution_count": 10,
   "metadata": {
    "collapsed": false
   },
   "outputs": [
    {
     "name": "stdout",
     "output_type": "stream",
     "text": [
      "[Node] Zurich, ZH, (47.36667, 8.55), radius = 10.\n"
     ]
    }
   ],
   "source": [
    "print(nodes[0])"
   ]
  },
  {
   "cell_type": "markdown",
   "metadata": {},
   "source": [
    "## Saving results"
   ]
  },
  {
   "cell_type": "markdown",
   "metadata": {},
   "source": [
    "Given we will use the generated nodes during the whole project, it's better if we make some effort to save this list, in order to avoid generating it each time. We use the [pickle](https://docs.python.org/2/library/pickle.html) module: "
   ]
  },
  {
   "cell_type": "code",
   "execution_count": null,
   "metadata": {
    "collapsed": true
   },
   "outputs": [],
   "source": [
    "import pickle"
   ]
  },
  {
   "cell_type": "markdown",
   "metadata": {},
   "source": [
    "### Saving the list"
   ]
  },
  {
   "cell_type": "code",
   "execution_count": 17,
   "metadata": {
    "collapsed": true
   },
   "outputs": [],
   "source": [
    "with open('nodes.pkl', 'wb') as file:\n",
    "    pickle.dump(nodes, file)"
   ]
  },
  {
   "cell_type": "markdown",
   "metadata": {},
   "source": [
    "### Loading the list"
   ]
  },
  {
   "cell_type": "code",
   "execution_count": 22,
   "metadata": {
    "collapsed": false
   },
   "outputs": [
    {
     "name": "stdout",
     "output_type": "stream",
     "text": [
      "[Node] Zurich, ZH, (47.36667, 8.55), radius = 10.\n"
     ]
    }
   ],
   "source": [
    "with open('nodes.pkl', 'rb') as file:\n",
    "    list = pickle.load(file)\n",
    "    \n",
    "print(list[0])"
   ]
  }
 ],
 "metadata": {
  "kernelspec": {
   "display_name": "Python [Root]",
   "language": "python",
   "name": "Python [Root]"
  },
  "language_info": {
   "codemirror_mode": {
    "name": "ipython",
    "version": 3
   },
   "file_extension": ".py",
   "mimetype": "text/x-python",
   "name": "python",
   "nbconvert_exporter": "python",
   "pygments_lexer": "ipython3",
   "version": "3.5.2"
  }
 },
 "nbformat": 4,
 "nbformat_minor": 1
}
